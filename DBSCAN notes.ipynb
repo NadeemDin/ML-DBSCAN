{
 "cells": [
  {
   "cell_type": "markdown",
   "id": "fc8e73d6",
   "metadata": {},
   "source": [
    "# DBSCAN\n",
    "\n",
    "### How does it work:\n",
    "\n",
    "    - DBSCAN focuses on using density of points as its main factor for assinging cluster labels.\n",
    "    - Creates ability to find cluster segmentations that other algos have difficulty with.\n",
    "    - e.g. moon shaped plots which would have problem with distance based metrics. \n",
    "    \n",
    "    - DBSCAN iterates through points and uses two key hyperparameters (epsilon and minimum number of points) \n",
    "    to assign cluster labels:\n",
    "        1. Epsilon: distance extended from a point\n",
    "        2. Minimum number of points: MnoPs in an epsilon distance. \n",
    "        \n",
    "    - DBSCAN point types: Core, Border, Outlier:\n",
    "    \n",
    "        1. Core:\n",
    "        Randomly chooses point and checks type, then uses epsilon distance as radius/range from chosen point and min number of points within that radius to identify other points from that random point that fall in the radius - if hyperparameters are satisfied, DBSCAN  labels point type as core. point with min points in epsilon range. \n",
    "        \n",
    "        2. Border: \n",
    "        in Epsilon range of core point but does not contain min. number of points. e.g. a point within the epsilon range of a core point, but within its own range does not satisfy the min number of points hyper parameter.\n",
    "        \n",
    "        Core and border points can belong to the same cluster.\n",
    "        \n",
    "        3. Outlier: points that cannot be reached by points in a cluster assignment. \n",
    "        \n",
    "        \n",
    "### DBSCAN Procedure:\n",
    "    \n",
    "    - pick random point not yet assigned\n",
    "    - determine point type\n",
    "    - once a core point has been found, add all directly reachable points to the same cluster as core.\n",
    "    - repeat until all points have been assigned to a cluster or as an outlier.\n",
    "    \n",
    "### Visualisation:\n",
    "\n",
    "    - https://www.naftaliharris.com/blog/visualizing-dbscan-clustering/ (smiley face visualisation)\n",
    "    \n",
    "### DBSCAN vs K-Means Clustering:\n",
    "        \n",
    "        \n",
    "    "
   ]
  },
  {
   "cell_type": "code",
   "execution_count": null,
   "id": "168782c9",
   "metadata": {},
   "outputs": [],
   "source": []
  }
 ],
 "metadata": {
  "kernelspec": {
   "display_name": "Python 3 (ipykernel)",
   "language": "python",
   "name": "python3"
  },
  "language_info": {
   "codemirror_mode": {
    "name": "ipython",
    "version": 3
   },
   "file_extension": ".py",
   "mimetype": "text/x-python",
   "name": "python",
   "nbconvert_exporter": "python",
   "pygments_lexer": "ipython3",
   "version": "3.9.13"
  }
 },
 "nbformat": 4,
 "nbformat_minor": 5
}
